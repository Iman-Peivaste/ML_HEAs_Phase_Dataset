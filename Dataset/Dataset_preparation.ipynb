{
 "cells": [
  {
   "cell_type": "markdown",
   "id": "1ce2e483-13e6-4c45-a199-b256fb303964",
   "metadata": {},
   "source": [
    "# Importing Libraries"
   ]
  },
  {
   "cell_type": "code",
   "execution_count": 1,
   "id": "4ebd08bb-62a4-4558-a39f-425e1659f89b",
   "metadata": {},
   "outputs": [],
   "source": [
    "import numpy as np\n",
    "import pandas as pd\n",
    "import matplotlib.pyplot as plt\n",
    "from tqdm import tqdm\n",
    "from collections import Counter\n",
    "import pymatgen.core as mg\n",
    "import pickle\n",
    "\n",
    "from sklearn.preprocessing import OneHotEncoder\n",
    "from sklearn.preprocessing import OrdinalEncoder\n",
    "from sklearn.cluster import KMeans\n",
    "from sklearn.ensemble import RandomForestClassifier\n",
    "from sklearn.model_selection import train_test_split\n",
    "from sklearn.preprocessing import MinMaxScaler\n",
    "from sklearn.preprocessing import StandardScaler\n",
    "from sklearn.ensemble import IsolationForest\n",
    "from sklearn.metrics import accuracy_score"
   ]
  },
  {
   "cell_type": "markdown",
   "id": "7c9fcc78-3e51-498d-8f8f-c0ffc86c79e5",
   "metadata": {},
   "source": [
    "# At the first step, a dataset of HEAs and elemental properties are used to create a dataset"
   ]
  },
  {
   "cell_type": "code",
   "execution_count": 2,
   "id": "b2789ecf-ef0b-4729-b3a2-d316a4fc6620",
   "metadata": {},
   "outputs": [
    {
     "name": "stdout",
     "output_type": "stream",
     "text": [
      "Creating an Empty dataframe\n"
     ]
    },
    {
     "name": "stderr",
     "output_type": "stream",
     "text": [
      "100%|███████████████████████████████████████████████████████████████████████████| 10387/10387 [00:41<00:00, 251.86it/s]\n"
     ]
    },
    {
     "name": "stdout",
     "output_type": "stream",
     "text": [
      "filling the dataframe regarding the composition of alloys\n"
     ]
    },
    {
     "name": "stderr",
     "output_type": "stream",
     "text": [
      "  0%|                                                                                        | 0/10387 [00:00<?, ?it/s]C:\\Users\\peivaste\\AppData\\Local\\Temp\\ipykernel_35356\\662916042.py:45: FutureWarning: Setting an item of incompatible dtype is deprecated and will raise in a future error of pandas. Value '0.16666666666666666' has dtype incompatible with int64, please explicitly cast to a compatible dtype first.\n",
      "  df2.loc[name, sym[j]] = frac[j]\n",
      "C:\\Users\\peivaste\\AppData\\Local\\Temp\\ipykernel_35356\\662916042.py:45: FutureWarning: Setting an item of incompatible dtype is deprecated and will raise in a future error of pandas. Value '0.2222222222222222' has dtype incompatible with int64, please explicitly cast to a compatible dtype first.\n",
      "  df2.loc[name, sym[j]] = frac[j]\n",
      "C:\\Users\\peivaste\\AppData\\Local\\Temp\\ipykernel_35356\\662916042.py:45: FutureWarning: Setting an item of incompatible dtype is deprecated and will raise in a future error of pandas. Value '0.14285714285714285' has dtype incompatible with int64, please explicitly cast to a compatible dtype first.\n",
      "  df2.loc[name, sym[j]] = frac[j]\n",
      "C:\\Users\\peivaste\\AppData\\Local\\Temp\\ipykernel_35356\\662916042.py:45: FutureWarning: Setting an item of incompatible dtype is deprecated and will raise in a future error of pandas. Value '0.12307692307692308' has dtype incompatible with int64, please explicitly cast to a compatible dtype first.\n",
      "  df2.loc[name, sym[j]] = frac[j]\n",
      "C:\\Users\\peivaste\\AppData\\Local\\Temp\\ipykernel_35356\\662916042.py:45: FutureWarning: Setting an item of incompatible dtype is deprecated and will raise in a future error of pandas. Value '0.03225806451612903' has dtype incompatible with int64, please explicitly cast to a compatible dtype first.\n",
      "  df2.loc[name, sym[j]] = frac[j]\n",
      "  0%|▏                                                                             | 31/10387 [00:00<01:09, 148.48it/s]C:\\Users\\peivaste\\AppData\\Local\\Temp\\ipykernel_35356\\662916042.py:45: FutureWarning: Setting an item of incompatible dtype is deprecated and will raise in a future error of pandas. Value '0.15384615384615385' has dtype incompatible with int64, please explicitly cast to a compatible dtype first.\n",
      "  df2.loc[name, sym[j]] = frac[j]\n",
      "  1%|▌                                                                             | 79/10387 [00:00<01:15, 135.69it/s]C:\\Users\\peivaste\\AppData\\Local\\Temp\\ipykernel_35356\\662916042.py:45: FutureWarning: Setting an item of incompatible dtype is deprecated and will raise in a future error of pandas. Value '0.07692307692307693' has dtype incompatible with int64, please explicitly cast to a compatible dtype first.\n",
      "  df2.loc[name, sym[j]] = frac[j]\n",
      "  1%|▊                                                                            | 109/10387 [00:00<01:12, 141.75it/s]C:\\Users\\peivaste\\AppData\\Local\\Temp\\ipykernel_35356\\662916042.py:45: FutureWarning: Setting an item of incompatible dtype is deprecated and will raise in a future error of pandas. Value '0.019607843137254905' has dtype incompatible with int64, please explicitly cast to a compatible dtype first.\n",
      "  df2.loc[name, sym[j]] = frac[j]\n",
      "  3%|██                                                                           | 277/10387 [00:01<01:00, 166.32it/s]C:\\Users\\peivaste\\AppData\\Local\\Temp\\ipykernel_35356\\662916042.py:45: FutureWarning: Setting an item of incompatible dtype is deprecated and will raise in a future error of pandas. Value '0.2' has dtype incompatible with int64, please explicitly cast to a compatible dtype first.\n",
      "  df2.loc[name, sym[j]] = frac[j]\n",
      "  3%|██▏                                                                          | 296/10387 [00:01<00:59, 169.04it/s]C:\\Users\\peivaste\\AppData\\Local\\Temp\\ipykernel_35356\\662916042.py:45: FutureWarning: Setting an item of incompatible dtype is deprecated and will raise in a future error of pandas. Value '0.005964214711729622' has dtype incompatible with int64, please explicitly cast to a compatible dtype first.\n",
      "  df2.loc[name, sym[j]] = frac[j]\n",
      "  3%|██▌                                                                          | 353/10387 [00:02<00:56, 178.50it/s]C:\\Users\\peivaste\\AppData\\Local\\Temp\\ipykernel_35356\\662916042.py:45: FutureWarning: Setting an item of incompatible dtype is deprecated and will raise in a future error of pandas. Value '0.12' has dtype incompatible with int64, please explicitly cast to a compatible dtype first.\n",
      "  df2.loc[name, sym[j]] = frac[j]\n",
      "  4%|██▊                                                                          | 371/10387 [00:02<00:56, 178.68it/s]C:\\Users\\peivaste\\AppData\\Local\\Temp\\ipykernel_35356\\662916042.py:45: FutureWarning: Setting an item of incompatible dtype is deprecated and will raise in a future error of pandas. Value '0.15625' has dtype incompatible with int64, please explicitly cast to a compatible dtype first.\n",
      "  df2.loc[name, sym[j]] = frac[j]\n",
      "C:\\Users\\peivaste\\AppData\\Local\\Temp\\ipykernel_35356\\662916042.py:45: FutureWarning: Setting an item of incompatible dtype is deprecated and will raise in a future error of pandas. Value '0.3125' has dtype incompatible with int64, please explicitly cast to a compatible dtype first.\n",
      "  df2.loc[name, sym[j]] = frac[j]\n",
      "C:\\Users\\peivaste\\AppData\\Local\\Temp\\ipykernel_35356\\662916042.py:45: FutureWarning: Setting an item of incompatible dtype is deprecated and will raise in a future error of pandas. Value '0.03508771929824561' has dtype incompatible with int64, please explicitly cast to a compatible dtype first.\n",
      "  df2.loc[name, sym[j]] = frac[j]\n",
      "  8%|██████                                                                       | 826/10387 [00:04<00:53, 177.76it/s]C:\\Users\\peivaste\\AppData\\Local\\Temp\\ipykernel_35356\\662916042.py:45: FutureWarning: Setting an item of incompatible dtype is deprecated and will raise in a future error of pandas. Value '0.18181818181818182' has dtype incompatible with int64, please explicitly cast to a compatible dtype first.\n",
      "  df2.loc[name, sym[j]] = frac[j]\n",
      "  8%|██████▍                                                                      | 863/10387 [00:05<00:53, 177.28it/s]C:\\Users\\peivaste\\AppData\\Local\\Temp\\ipykernel_35356\\662916042.py:45: FutureWarning: Setting an item of incompatible dtype is deprecated and will raise in a future error of pandas. Value '0.012048192771084338' has dtype incompatible with int64, please explicitly cast to a compatible dtype first.\n",
      "  df2.loc[name, sym[j]] = frac[j]\n",
      "C:\\Users\\peivaste\\AppData\\Local\\Temp\\ipykernel_35356\\662916042.py:45: FutureWarning: Setting an item of incompatible dtype is deprecated and will raise in a future error of pandas. Value '0.04457831325301205' has dtype incompatible with int64, please explicitly cast to a compatible dtype first.\n",
      "  df2.loc[name, sym[j]] = frac[j]\n",
      " 10%|███████▌                                                                    | 1042/10387 [00:06<00:56, 166.55it/s]C:\\Users\\peivaste\\AppData\\Local\\Temp\\ipykernel_35356\\662916042.py:45: FutureWarning: Setting an item of incompatible dtype is deprecated and will raise in a future error of pandas. Value '0.36' has dtype incompatible with int64, please explicitly cast to a compatible dtype first.\n",
      "  df2.loc[name, sym[j]] = frac[j]\n",
      "C:\\Users\\peivaste\\AppData\\Local\\Temp\\ipykernel_35356\\662916042.py:45: FutureWarning: Setting an item of incompatible dtype is deprecated and will raise in a future error of pandas. Value '0.32' has dtype incompatible with int64, please explicitly cast to a compatible dtype first.\n",
      "  df2.loc[name, sym[j]] = frac[j]\n",
      "C:\\Users\\peivaste\\AppData\\Local\\Temp\\ipykernel_35356\\662916042.py:45: FutureWarning: Setting an item of incompatible dtype is deprecated and will raise in a future error of pandas. Value '0.24096385542168675' has dtype incompatible with int64, please explicitly cast to a compatible dtype first.\n",
      "  df2.loc[name, sym[j]] = frac[j]\n",
      " 10%|███████▊                                                                    | 1060/10387 [00:06<00:55, 166.79it/s]C:\\Users\\peivaste\\AppData\\Local\\Temp\\ipykernel_35356\\662916042.py:45: FutureWarning: Setting an item of incompatible dtype is deprecated and will raise in a future error of pandas. Value '0.6' has dtype incompatible with int64, please explicitly cast to a compatible dtype first.\n",
      "  df2.loc[name, sym[j]] = frac[j]\n",
      " 10%|███████▉                                                                    | 1080/10387 [00:06<00:52, 176.07it/s]C:\\Users\\peivaste\\AppData\\Local\\Temp\\ipykernel_35356\\662916042.py:45: FutureWarning: Setting an item of incompatible dtype is deprecated and will raise in a future error of pandas. Value '0.46' has dtype incompatible with int64, please explicitly cast to a compatible dtype first.\n",
      "  df2.loc[name, sym[j]] = frac[j]\n",
      " 11%|████████▎                                                                   | 1135/10387 [00:06<00:52, 175.27it/s]C:\\Users\\peivaste\\AppData\\Local\\Temp\\ipykernel_35356\\662916042.py:45: FutureWarning: Setting an item of incompatible dtype is deprecated and will raise in a future error of pandas. Value '0.24390243902439024' has dtype incompatible with int64, please explicitly cast to a compatible dtype first.\n",
      "  df2.loc[name, sym[j]] = frac[j]\n",
      " 14%|██████████▋                                                                 | 1467/10387 [00:08<00:50, 175.98it/s]C:\\Users\\peivaste\\AppData\\Local\\Temp\\ipykernel_35356\\662916042.py:45: FutureWarning: Setting an item of incompatible dtype is deprecated and will raise in a future error of pandas. Value '0.4' has dtype incompatible with int64, please explicitly cast to a compatible dtype first.\n",
      "  df2.loc[name, sym[j]] = frac[j]\n",
      " 18%|█████████████▊                                                              | 1891/10387 [00:10<00:45, 186.08it/s]C:\\Users\\peivaste\\AppData\\Local\\Temp\\ipykernel_35356\\662916042.py:45: FutureWarning: Setting an item of incompatible dtype is deprecated and will raise in a future error of pandas. Value '0.1' has dtype incompatible with int64, please explicitly cast to a compatible dtype first.\n",
      "  df2.loc[name, sym[j]] = frac[j]\n",
      " 29%|██████████████████████                                                      | 3007/10387 [00:16<00:37, 194.61it/s]C:\\Users\\peivaste\\AppData\\Local\\Temp\\ipykernel_35356\\662916042.py:45: FutureWarning: Setting an item of incompatible dtype is deprecated and will raise in a future error of pandas. Value '0.375' has dtype incompatible with int64, please explicitly cast to a compatible dtype first.\n",
      "  df2.loc[name, sym[j]] = frac[j]\n",
      "C:\\Users\\peivaste\\AppData\\Local\\Temp\\ipykernel_35356\\662916042.py:45: FutureWarning: Setting an item of incompatible dtype is deprecated and will raise in a future error of pandas. Value '0.3' has dtype incompatible with int64, please explicitly cast to a compatible dtype first.\n",
      "  df2.loc[name, sym[j]] = frac[j]\n",
      "C:\\Users\\peivaste\\AppData\\Local\\Temp\\ipykernel_35356\\662916042.py:45: FutureWarning: Setting an item of incompatible dtype is deprecated and will raise in a future error of pandas. Value '0.7' has dtype incompatible with int64, please explicitly cast to a compatible dtype first.\n",
      "  df2.loc[name, sym[j]] = frac[j]\n",
      "C:\\Users\\peivaste\\AppData\\Local\\Temp\\ipykernel_35356\\662916042.py:45: FutureWarning: Setting an item of incompatible dtype is deprecated and will raise in a future error of pandas. Value '0.10344827586206896' has dtype incompatible with int64, please explicitly cast to a compatible dtype first.\n",
      "  df2.loc[name, sym[j]] = frac[j]\n",
      " 29%|██████████████████████▏                                                     | 3033/10387 [00:17<00:34, 211.28it/s]C:\\Users\\peivaste\\AppData\\Local\\Temp\\ipykernel_35356\\662916042.py:45: FutureWarning: Setting an item of incompatible dtype is deprecated and will raise in a future error of pandas. Value '0.25' has dtype incompatible with int64, please explicitly cast to a compatible dtype first.\n",
      "  df2.loc[name, sym[j]] = frac[j]\n",
      " 29%|██████████████████████▍                                                     | 3064/10387 [00:17<00:30, 239.73it/s]C:\\Users\\peivaste\\AppData\\Local\\Temp\\ipykernel_35356\\662916042.py:45: FutureWarning: Setting an item of incompatible dtype is deprecated and will raise in a future error of pandas. Value '0.09090909090909091' has dtype incompatible with int64, please explicitly cast to a compatible dtype first.\n",
      "  df2.loc[name, sym[j]] = frac[j]\n",
      "C:\\Users\\peivaste\\AppData\\Local\\Temp\\ipykernel_35356\\662916042.py:45: FutureWarning: Setting an item of incompatible dtype is deprecated and will raise in a future error of pandas. Value '0.3333333333333333' has dtype incompatible with int64, please explicitly cast to a compatible dtype first.\n",
      "  df2.loc[name, sym[j]] = frac[j]\n",
      "100%|███████████████████████████████████████████████████████████████████████████| 10387/10387 [00:55<00:00, 186.17it/s]\n"
     ]
    },
    {
     "name": "stdout",
     "output_type": "stream",
     "text": [
      "Applying rule of mixture\n"
     ]
    },
    {
     "name": "stderr",
     "output_type": "stream",
     "text": [
      "100%|████████████████████████████████████████████████████████████████████████████| 10387/10387 [02:33<00:00, 67.69it/s]\n"
     ]
    }
   ],
   "source": [
    "df = pd.read_csv('dataset10387_70.csv', encoding=\"iso-8859-1\")\n",
    "NAME_HEAs = list (df['Alloy'])\n",
    "\n",
    "#%% creating an empty dataframe with columns of elements and row of alloys\n",
    "element_symbols = ['Num_el','H', 'He', 'Li', 'Be', 'B', 'C', 'N', 'O', 'F', 'Ne',\n",
    "                   'Na', 'Mg', 'Al', 'Si', 'P', 'S', 'Cl', 'Ar', 'K', 'Ca',\n",
    "                   'Sc', 'Ti', 'V', 'Cr', 'Mn', 'Fe', 'Co', 'Ni', 'Cu', 'Zn',\n",
    "                   'Ga', 'Ge', 'As', 'Se', 'Br', 'Kr', 'Rb', 'Sr', 'Y', 'Zr',\n",
    "                   'Nb', 'Mo', 'Tc', 'Ru', 'Rh', 'Pd', 'Ag', 'Cd', 'In', 'Sn',\n",
    "                   'Sb', 'Te', 'I', 'Xe', 'Cs', 'Ba', 'La', 'Ce', 'Pr', 'Nd',\n",
    "                   'Pm', 'Sm', 'Eu', 'Gd', 'Tb', 'Dy', 'Ho', 'Er', 'Tm', 'Yb',\n",
    "                   'Lu', 'Hf', 'Ta', 'W', 'Re', 'Os', 'Ir', 'Pt', 'Au', 'Hg',\n",
    "                   'Tl', 'Pb', 'Bi', 'Th', 'Pa', 'U', 'Np', 'Pu', 'Am', 'Cm',\n",
    "                   'Bk', 'Cf', 'Es', 'Fm', 'Md', 'No', 'Lr', 'Rf', 'Db', 'Sg',\n",
    "                   'Bh', 'Hs', 'Mt', 'Ds', 'Rg', 'Cn', 'Nh', 'Fl', 'Mc', 'Lv',\n",
    "                   'Ts', 'Og']\n",
    "\n",
    "# Create an empty dataframe with columns named after element symbols\n",
    "df2 = pd.DataFrame(columns=element_symbols)\n",
    "print('Creating an Empty dataframe')\n",
    "for s in tqdm(range (len(NAME_HEAs))):\n",
    "    df2.loc[s] = [0]*len(element_symbols)\n",
    "    \n",
    "    \n",
    "df2.index = NAME_HEAs\n",
    "\n",
    "#%% to fill the above data frame\n",
    "print('filling the dataframe regarding the composition of alloys')\n",
    "i = 0\n",
    "for name in tqdm(NAME_HEAs):\n",
    "    # print(name)\n",
    "    \n",
    "    HEAs = mg.Composition(name)\n",
    "    sym = []\n",
    "    frac = []\n",
    "    \n",
    "    for i in range (len(HEAs)):\n",
    "        el = HEAs.elements[i].symbol\n",
    "        el_frac = HEAs.get_atomic_fraction(el)\n",
    "        sym.append(el)\n",
    "        frac.append(el_frac)\n",
    "    \n",
    "    for j in range (len(sym)):\n",
    "        df2.loc[name, 'Num_el'] = len(sym)\n",
    "        df2.loc[name, sym[j]] = frac[j] \n",
    "#%%\n",
    "cols_with_all_zeros = df2.columns[(df2 == 0).all()] #delete columns with zero values\n",
    "df2 = df2.drop(cols_with_all_zeros, axis=1)\n",
    "df2 = df2.iloc[:, :-5] #delete columns with none values\n",
    "#%%\n",
    "class Read_prepare_data:\n",
    "    def __init__(self, name='elemental_propertieses.csv'):\n",
    "        self.df = pd.read_csv(name)\n",
    "        # self.df.drop('Unnamed: 0',inplace=True, axis=1)\n",
    "        # self.df.sort_values(by=['atomic_number'], ascending=True, inplace=True, ignore_index=True)\n",
    "        self.df.set_index('symbol', inplace=True)\n",
    "    def list_att(self):\n",
    "        return self.df.columns.tolist()\n",
    "\n",
    "    def keep_att(self, list_keep): #When the number of attributes or discroptors is huge we just keep some of them\n",
    "        self.df = self.df[list_keep]\n",
    "        return  self.df.dropna()\n",
    "    \n",
    "    def drop_att(self, list_drop):\n",
    "        \n",
    "        for i in list_drop:\n",
    "            self.df.drop(i, inplace=True, axis=1)\n",
    "            \n",
    "        return self.df\n",
    "        \n",
    "#%%\n",
    "obj = Read_prepare_data()\n",
    "att = obj.list_att()\n",
    "my_choice2 = ['VEC', 'Pauling_EN', 'Melting_point_K','DFT_LDA_Etot', \n",
    "'outer_shell_electrons', 'no_of_valence_electrons',\n",
    "              'Atomic_radius_calculated', 'Atomic_weight']\n",
    "df_element_attribute = obj.keep_att(my_choice2)\n",
    "#%%\n",
    "corr_matrix = df_element_attribute.corr()\n",
    "\n",
    "#%%\n",
    "class Mixture:\n",
    "    def __init__(self, name, ATT, df):\n",
    "        self.HEAs = mg.Composition(name)\n",
    "        self.sym = []\n",
    "        self.frac = []\n",
    "        self.df = df\n",
    "        self.ATT = ATT\n",
    "    \n",
    "        for i in range (len(self.HEAs)):\n",
    "            self.el1 = self.HEAs.elements[i].symbol\n",
    "            self.el1_frac = self.HEAs.get_atomic_fraction(self.el1)\n",
    "            \n",
    "            self.sym.append(self.el1)\n",
    "            self.frac.append(self.el1_frac)\n",
    "            \n",
    "        self.b = []\n",
    "        for m in self.sym:\n",
    "            self.condition = self.df.index == m\n",
    "            self.indices = self.df.index[self.condition]\n",
    "            self.var = self.df.loc[self.indices, self.ATT]\n",
    "            self.var2 = pd.Series.to_numpy(self.var)\n",
    "            self.var2 = self.var2[0]\n",
    "            \n",
    "            self.b.append(self.var2)\n",
    "         \n",
    "    def mix(self):\n",
    "        self.b = np.array(self.b)\n",
    "        self.frac = np.array(self.frac)\n",
    "        \n",
    "        self.final = np.dot(self.b, self.frac)\n",
    "        return self.final\n",
    "#%%\n",
    "att_name = list(df_element_attribute.columns)\n",
    "#%%\n",
    "print(\"Applying rule of mixture\")\n",
    "whole = []\n",
    "i=0\n",
    "for Name in tqdm(NAME_HEAs):\n",
    "    #print(Name)\n",
    "    #i=i+1\n",
    "    #print(i)\n",
    "    \n",
    "    for at in att_name:\n",
    "        ex = Mixture(Name, at, df_element_attribute)\n",
    "        tmp = ex.mix()\n",
    "        whole.append(tmp)\n",
    "whole = np.reshape(whole, (len(NAME_HEAs), len(att_name)))\n",
    "data = pd.DataFrame(whole, index = NAME_HEAs, columns=att_name)\n",
    "\n",
    "#%%\n",
    "#sqrt(sigma(i-ave)**2)\n",
    "lst_difs = ['Pauling_EN']\n",
    "\n",
    "for ii, lst_dif in enumerate(lst_difs):\n",
    "    ind = list(data.index)\n",
    "    dif_lst = []\n",
    "    for iterator in ind:\n",
    "        \n",
    "        av = data.loc[iterator, lst_dif]\n",
    "        if isinstance(av, pd.core.series.Series):\n",
    "            av = av.iloc[0]\n",
    "        sum_power_two_mul_frac = 0\n",
    "        com = mg.Composition(iterator)\n",
    "        for el in range (len(com)):\n",
    "            symb = com.elements[el].symbol\n",
    "            fra  = com.get_atomic_fraction(symb) \n",
    "            i_th_att = df_element_attribute.loc[symb, lst_dif]\n",
    "            power_two = (i_th_att-av)**2\n",
    "            power_two_mul_frac = fra * power_two\n",
    "            sum_power_two_mul_frac+= power_two_mul_frac\n",
    "            \n",
    "        final = np.sqrt(sum_power_two_mul_frac)\n",
    "        dif_lst.append(final)\n",
    "        \n",
    "    \n",
    "    data[lst_dif+'_div'] = dif_lst\n",
    "\n",
    "\n",
    "#%% Entropy\n",
    "ind = list(data.index)\n",
    "entropy = 0\n",
    "entropy_list = []\n",
    "for iterator in ind:\n",
    "    com = mg.Composition(iterator)\n",
    "    entropy = 0\n",
    "    for el in range (len(com)):\n",
    "        symb = com.elements[el].symbol\n",
    "        fra  = com.get_atomic_fraction(symb) \n",
    "        entropy += -8.314*fra * ((np.log(fra)))\n",
    "    entropy_list.append(entropy)\n",
    "\n",
    "\n",
    "data['entropy'] = entropy_list\n",
    "\n",
    "#%%\n",
    "#sqrt(sigma(1-i/ave)**2)\n",
    "lst_difs = ['Atomic_radius_calculated']\n",
    "\n",
    "for ii, lst_dif in enumerate(lst_difs):\n",
    "    ind = list(data.index)\n",
    "    dif_lst = []\n",
    "    for iterator in ind:\n",
    "        \n",
    "        av = data.loc[iterator, lst_dif]\n",
    "        if isinstance(av, pd.core.series.Series):\n",
    "            av = av.iloc[0]\n",
    "        sum_power_two_mul_frac = 0\n",
    "        com = mg.Composition(iterator)\n",
    "        for el in range (len(com)):\n",
    "            symb = com.elements[el].symbol\n",
    "            fra  = com.get_atomic_fraction(symb) \n",
    "            i_th_att = df_element_attribute.loc[symb, lst_dif]\n",
    "            power_two = (1.0-i_th_att/av)**2\n",
    "            power_two_mul_frac = fra * power_two\n",
    "            sum_power_two_mul_frac+= power_two_mul_frac\n",
    "            \n",
    "        final = np.sqrt(sum_power_two_mul_frac)\n",
    "        dif_lst.append(final)\n",
    "        \n",
    "    \n",
    "    data[lst_dif+'_dif'] = dif_lst\n",
    "\n",
    "\n",
    "#%% mixing enthalpy 4Hcicj\n",
    "ind = list(data.index)\n",
    "\n",
    "df_enthalpy = pd.read_csv('Enthalpy_mix.csv')\n",
    "df_enthalpy.set_index('symbol', inplace=True)\n",
    "df_enthalpy.drop('H',inplace=True, axis=1)\n",
    "\n",
    "mix_enthalpy = []\n",
    "for iterator in ind:\n",
    "    #print(iterator)\n",
    "    com = mg.Composition(iterator)\n",
    "\n",
    "    symb = []\n",
    "    frac = []\n",
    "    for i in range (len(com)):\n",
    "        sym = com.elements[i].symbol\n",
    "        # el1_frac = com.get_atomic_fraction(sym)\n",
    "        symb.append(sym)\n",
    "        # frac.append(el1_frac)\n",
    "    agg = 0\n",
    "\n",
    "    for k in symb:\n",
    "        for n in symb:\n",
    "            if k==n: \n",
    "                continue\n",
    "            else:\n",
    "                mix = df_enthalpy.loc[k,n]\n",
    "                k_frac = com.get_atomic_fraction(k)\n",
    "                n_frac = com.get_atomic_fraction(n)\n",
    "                agg += mix * k_frac * n_frac\n",
    "                \n",
    "    mix_enthalpy.append(2*agg)\n",
    "\n",
    "\n",
    "\n",
    "data['Enthalpy'] = mix_enthalpy\n",
    "#%%\n",
    "\n",
    "df_concatenated = pd.concat([df2, data], axis=1)\n",
    "#%%\n",
    "\n",
    "y = df[\"Phase\"].copy()\n",
    "y = y.to_frame()\n",
    "data_rest = df_concatenated.reset_index()\n",
    "data_rest['Geo'] = data_rest['entropy'] / (data_rest['Atomic_radius_calculated_dif'])**2\n",
    "data_final = pd.concat([data_rest, y], axis=1)\n",
    "data_final['Atomic_radius_calculated_dif'] = data_final['Atomic_radius_calculated_dif']*100\n",
    "data_final['E_per_el'] = data_final['DFT_LDA_Etot']/data_final['Num_el']"
   ]
  },
  {
   "cell_type": "markdown",
   "id": "172ef7c9-7f1f-41b1-93a2-4fcc71093302",
   "metadata": {},
   "source": [
    "# Droping Duplicate"
   ]
  },
  {
   "cell_type": "code",
   "execution_count": 3,
   "id": "c6a1ff23-de98-4c9c-81f1-7bbb0e0e7931",
   "metadata": {},
   "outputs": [],
   "source": [
    "data = data_final\n",
    "df = data.iloc[:, :-3].join(data.iloc[:, -1:].join(data.iloc[:, -2:-1]))\n",
    "df.drop_duplicates(keep='first', inplace=True) # droping duplicates"
   ]
  },
  {
   "cell_type": "code",
   "execution_count": 4,
   "id": "a076a883-6882-4c27-83e1-0117dde3b918",
   "metadata": {},
   "outputs": [
    {
     "data": {
      "text/plain": [
       "(7590, 69)"
      ]
     },
     "execution_count": 4,
     "metadata": {},
     "output_type": "execute_result"
    }
   ],
   "source": [
    "df.shape"
   ]
  },
  {
   "cell_type": "markdown",
   "id": "46f1b9a4-f97d-4ad2-aa0f-016dd1effded",
   "metadata": {},
   "source": [
    "# Droping data with inconsistant reports of phase"
   ]
  },
  {
   "cell_type": "code",
   "execution_count": 5,
   "id": "d7499d73-6468-4cef-9c2e-7c1350f593f5",
   "metadata": {},
   "outputs": [],
   "source": [
    "duplicates = df[df.iloc[:, :-1].duplicated(keep=False)]\n",
    "grouped = duplicates.groupby(list(duplicates.iloc[:, :-1].columns))\n",
    "mask = grouped['Phase'].nunique() > 1\n",
    "indices_to_drop = mask[mask].index\n",
    "df.drop(df.index[df.iloc[:, :-1].apply(tuple, axis=1).isin(indices_to_drop)], inplace=True)\n",
    "\n",
    "output = df['Phase'].to_frame()\n",
    "df.drop(df.columns[-1], axis=1, inplace=True) # drop phase\n",
    "df['Omega'] = df['Melting_point_K'] * df['entropy'] / abs(df['Enthalpy'])\n",
    "df = pd.concat([df, output], axis=1)"
   ]
  },
  {
   "cell_type": "markdown",
   "id": "5e733eb2-91bd-4fa2-917e-a51ba3f8f030",
   "metadata": {},
   "source": [
    "# Anomoly detection"
   ]
  },
  {
   "cell_type": "code",
   "execution_count": 6,
   "id": "2b11f53d-439b-4cbd-b403-9c2108613ccd",
   "metadata": {},
   "outputs": [],
   "source": [
    "df = df.iloc[:,-15:]\n",
    "df = df.drop('Omega', axis=1)"
   ]
  },
  {
   "cell_type": "code",
   "execution_count": 7,
   "id": "7c883755-339d-4652-96ef-5fa429f46855",
   "metadata": {},
   "outputs": [
    {
     "data": {
      "text/plain": [
       "Index(['VEC', 'Pauling_EN', 'Melting_point_K', 'DFT_LDA_Etot',\n",
       "       'outer_shell_electrons', 'no_of_valence_electrons',\n",
       "       'Atomic_radius_calculated', 'Atomic_weight', 'Pauling_EN_div',\n",
       "       'entropy', 'Atomic_radius_calculated_dif', 'Enthalpy', 'E_per_el',\n",
       "       'Phase'],\n",
       "      dtype='object')"
      ]
     },
     "execution_count": 7,
     "metadata": {},
     "output_type": "execute_result"
    }
   ],
   "source": [
    "df.columns"
   ]
  },
  {
   "cell_type": "code",
   "execution_count": 8,
   "id": "e4326277-c2ad-489d-9a3d-cf887e8da2f7",
   "metadata": {},
   "outputs": [
    {
     "name": "stderr",
     "output_type": "stream",
     "text": [
      "100%|██████████████████████████████████████████████████████████████████████████████████| 11/11 [00:02<00:00,  4.08it/s]\n"
     ]
    }
   ],
   "source": [
    "output = df['Phase'].to_frame()\n",
    "cat_list = output.index.tolist()\n",
    "cat_num =  df['Phase'].value_counts()\n",
    "#%%\n",
    "def remove_outliers(data):\n",
    "    data_encoded = pd.get_dummies(data, columns=['Phase'])\n",
    "\n",
    "    model = IsolationForest(n_estimators=100, contamination='auto', random_state=42)\n",
    "    # Fit the model to the data\n",
    "    model.fit(data_encoded)\n",
    "    \n",
    "    # Predict the outliers\n",
    "    outliers = model.predict(data_encoded)\n",
    "    \n",
    "    # Filter the outliers from the original dataset\n",
    "    data_filtered = data[~(outliers == -1)]\n",
    "    cat_vars = ['Phase']\n",
    "    filtered_cat_vars = data_filtered[cat_vars]\n",
    "    filtered_data = pd.concat([data_filtered.drop(cat_vars, axis=1), filtered_cat_vars], axis=1)\n",
    "    return filtered_data\n",
    "\n",
    "BCC = df[df['Phase'] == 'BCC']\n",
    "FCC = df[df['Phase'] == 'FCC']\n",
    "FCC_BCC =  df[df['Phase'] == 'BCC+FCC']\n",
    "\n",
    "BCC_IM = df[df['Phase'] == 'BCC+IM']\n",
    "FCC_IM = df[df['Phase'] == 'FCC+IM']\n",
    "FCC_BCC_IM =  df[df['Phase'] == 'BCC+FCC+IM']\n",
    "IM =  df[df['Phase'] == 'IM']\n",
    "\n",
    "AM =  df[df['Phase'] == 'AM']\n",
    "BCC_AM =  df[df['Phase'] == 'BCC+AM']\n",
    "FCC_AM =  df[df['Phase'] == 'FCC+AM']\n",
    "FCC_BCC_AM =  df[df['Phase'] == 'BCC+FCC+AM']\n",
    "\n",
    "dfs = [BCC, FCC, FCC_BCC, BCC_IM, FCC_IM, FCC_BCC_IM,IM, AM, BCC_AM,FCC_AM , FCC_BCC_AM ]\n",
    "\n",
    "new_df = []\n",
    "for dd in tqdm(dfs):\n",
    "    dd = remove_outliers(dd)\n",
    "    new_df.append(dd)\n",
    "df = pd.concat(new_df, axis=0, ignore_index=True)"
   ]
  },
  {
   "cell_type": "code",
   "execution_count": 9,
   "id": "145c6c40-1545-4e56-b7df-8aed4589ac06",
   "metadata": {},
   "outputs": [
    {
     "data": {
      "text/plain": [
       "(5677, 14)"
      ]
     },
     "execution_count": 9,
     "metadata": {},
     "output_type": "execute_result"
    }
   ],
   "source": [
    "df.shape"
   ]
  }
 ],
 "metadata": {
  "kernelspec": {
   "display_name": "Python 3 (ipykernel)",
   "language": "python",
   "name": "python3"
  },
  "language_info": {
   "codemirror_mode": {
    "name": "ipython",
    "version": 3
   },
   "file_extension": ".py",
   "mimetype": "text/x-python",
   "name": "python",
   "nbconvert_exporter": "python",
   "pygments_lexer": "ipython3",
   "version": "3.11.5"
  }
 },
 "nbformat": 4,
 "nbformat_minor": 5
}
